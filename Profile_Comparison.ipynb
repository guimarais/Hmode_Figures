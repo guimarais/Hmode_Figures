{
 "cells": [
  {
   "cell_type": "markdown",
   "metadata": {},
   "source": [
    "# Shot \\#30554"
   ]
  },
  {
   "cell_type": "code",
   "execution_count": 98,
   "metadata": {},
   "outputs": [],
   "source": [
    "import matplotlib.pyplot as plt\n",
    "import numpy as np\n",
    "import dd\n",
    "from ddremoveELMData import *\n",
    "from getsig import getsig\n",
    "plt.style.use('helvet2')"
   ]
  },
  {
   "cell_type": "markdown",
   "metadata": {},
   "source": [
    "### First interval"
   ]
  },
  {
   "cell_type": "code",
   "execution_count": 3,
   "metadata": {},
   "outputs": [],
   "source": [
    "shotnr = 30554\n",
    "ti = 2.4\n",
    "tf = 2.6"
   ]
  },
  {
   "cell_type": "code",
   "execution_count": 93,
   "metadata": {},
   "outputs": [],
   "source": [
    "rps = dd.shotfile('RPS', shotnr, edition=2)\n",
    "nl = rps('neb_LFS')\n",
    "rl = rps('RB_LFS')\n",
    "nh = rps('neb_HFS')\n",
    "rh = rps('RB_HFS')\n",
    "tref = rps('TIME')\n",
    "rps.close()"
   ]
  },
  {
   "cell_type": "code",
   "execution_count": 94,
   "metadata": {},
   "outputs": [],
   "source": [
    "mask1 = ddremoveELMData(shotnr, tref, preft=0.002, suft=0.005, elm_exper=\"guimas\")"
   ]
  },
  {
   "cell_type": "code",
   "execution_count": 95,
   "metadata": {},
   "outputs": [],
   "source": [
    "tinterval = (tref>=ti)&(tref<=tf)&(mask1)"
   ]
  },
  {
   "cell_type": "code",
   "execution_count": 96,
   "metadata": {},
   "outputs": [],
   "source": [
    "nlt = nl.data[tinterval,:]\n",
    "rlt = rl.data[tinterval,:]\n",
    "qua = nlt>3e18"
   ]
  },
  {
   "cell_type": "code",
   "execution_count": 97,
   "metadata": {},
   "outputs": [
    {
     "data": {
      "image/png": "[encoded data removed]",
      "text/plain": [
       "<Figure size 432x288 with 1 Axes>"
      ]
     },
     "metadata": {},
     "output_type": "display_data"
    }
   ],
   "source": [
    "plt.scatter(rlt[qua], nlt[qua],s=2, c='g')\n",
    "plt.ylim(0,6e19)\n",
    "plt.show()"
   ]
  },
  {
   "cell_type": "code",
   "execution_count": 99,
   "metadata": {},
   "outputs": [
    {
     "name": "stderr",
     "output_type": "stream",
     "text": [
      "/afs/ipp/aug/ads-diags/common/python/lib/dd_20180216.py:1090: RuntimeWarning: Length of time base & 1st index of signal group \"ne\" not matching. Ignoring tBegin/tEnd as a precaution.\n",
      "  RuntimeWarning)\n",
      "/afs/ipp/aug/ads-diags/common/python/lib/dd_20180216.py:117: RuntimeWarning: Warning by DDcsgrp (8.1): No PARAM_SET found\n",
      "  warnings.warn(text.replace('\\x00','').strip(), RuntimeWarning)\n"
     ]
    }
   ],
   "source": [
    "lin = getsig(shotnr, 'LIN', 'ne')"
   ]
  },
  {
   "cell_type": "code",
   "execution_count": 105,
   "metadata": {},
   "outputs": [],
   "source": [
    "masklin = ddremoveELMData(shotnr, lin.time, preft=0.003, suft=0.005, elm_exper=\"guimas\")"
   ]
  },
  {
   "cell_type": "code",
   "execution_count": 106,
   "metadata": {},
   "outputs": [],
   "source": [
    "linterval = (lin.time>=ti)&(lin.time<=tf)&(masklin)"
   ]
  },
  {
   "cell_type": "code",
   "execution_count": 108,
   "metadata": {},
   "outputs": [
    {
     "data": {
      "image/png": "[encoded data removed]",
      "text/plain": [
       "<Figure size 432x288 with 1 Axes>"
      ]
     },
     "metadata": {},
     "output_type": "display_data"
    }
   ],
   "source": [
    "plt.scatter(rlt[qua], nlt[qua],s=2, c='g')\n",
    "plt.scatter(lin.area.data[linterval,:],lin.data[linterval,:])\n",
    "plt.ylim(0,6e19)\n",
    "plt.show()"
   ]
  },
  {
   "cell_type": "code",
   "execution_count": null,
   "metadata": {},
   "outputs": [],
   "source": []
  }
 ],
 "metadata": {
  "kernelspec": {
   "display_name": "Python 2",
   "language": "python",
   "name": "python2"
  },
  "language_info": {
   "codemirror_mode": {
    "name": "ipython",
    "version": 2
   },
   "file_extension": ".py",
   "mimetype": "text/x-python",
   "name": "python",
   "nbconvert_exporter": "python",
   "pygments_lexer": "ipython2",
   "version": "2.7.13"
  }
 },
 "nbformat": 4,
 "nbformat_minor": 2
}
