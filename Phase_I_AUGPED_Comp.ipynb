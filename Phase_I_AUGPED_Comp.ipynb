{
 "cells": [
  {
   "cell_type": "code",
   "execution_count": 1,
   "metadata": {},
   "outputs": [],
   "source": [
    "import dd\n",
    "import numpy as np\n",
    "import matplotlib.pyplot as plt\n",
    "from getsig import getsig\n",
    "from ddremoveELMData import *\n",
    "plt.style.use('helvet2')"
   ]
  },
  {
   "cell_type": "markdown",
   "metadata": {},
   "source": [
    "Edition 5: Phase I\n",
    "\n",
    "Edition 3: Phase II\n",
    "\n",
    "Edition 4: Phase III\n",
    "\n",
    "Edition 6 is ruined?"
   ]
  },
  {
   "cell_type": "code",
   "execution_count": 2,
   "metadata": {},
   "outputs": [
    {
     "name": "stderr",
     "output_type": "stream",
     "text": [
      "/afs/ipp/aug/ads-diags/common/python/lib/dd.py:117: RuntimeWarning: Warning by DDcsgnl (8.1): no calibration of data\n",
      "  warnings.warn(text.replace('\\x00','').strip(), RuntimeWarning)\n",
      "/afs/ipp/aug/ads-diags/common/python/lib/dd.py:117: RuntimeWarning: Warning by DDcsgrp (8.1): No PARAM_SET found\n",
      "  warnings.warn(text.replace('\\x00','').strip(), RuntimeWarning)\n"
     ]
    }
   ],
   "source": [
    "shotnr = 30554\n",
    "ped = dd.shotfile('PED', shotnr, experiment='guimas', edition=5)\n",
    "t1 = ped('t1')\n",
    "t2 = ped('t2')\n",
    "nedata = ped('neData')\n",
    "mskz = nedata.data!=0.0\n",
    "rhos = nedata.area.data[0,mskz]\n",
    "dens = nedata.data[mskz]\n",
    "diagind = ped('DiagIndx')\n",
    "nedpts = ped('neDPts')\n",
    "indexesr = nedpts.data[nedpts.data!=0]\n",
    "tstart = ped('tstart')\n",
    "tstop = ped('tstop')\n",
    "neRshift = ped('neRshift')\n",
    "#neDiags = ped('neDiags')\n",
    "ped.close()"
   ]
  },
  {
   "cell_type": "code",
   "execution_count": 11,
   "metadata": {},
   "outputs": [
    {
     "name": "stdout",
     "output_type": "stream",
     "text": [
      "[0.    0.    0.    0.006 0.    0.005 0.    0.    0.    0.    0.    0.\n",
      " 0.    0.    0.    0.    0.    0.    0.    0.    0.    0.    0.    0.\n",
      " 0.    0.    0.    0.    0.    0.    0.    0.   ]\n",
      "(32768,)\n"
     ]
    }
   ],
   "source": [
    "print(neRshift.data)\n",
    "print(np.shape(nedata.data))"
   ]
  },
  {
   "cell_type": "code",
   "execution_count": 3,
   "metadata": {},
   "outputs": [],
   "source": [
    "#This still needs some automation\n",
    "indi = np.array([0, indexesr[0], indexesr[0]+indexesr[1]]).astype(int)\n",
    "indf = np.array([indexesr[0]-1, indexesr[0]+indexesr[1]-1, indexesr[0]+indexesr[1]+indexesr[2]-1]).astype(int)\n",
    "zorder = np.array([3,2,1])\n",
    "labels = [r'$\\mathrm{TS_{edge}}$', 'LIN', 'Ref. LFS']\n",
    "clrs = ['r','g','b']"
   ]
  },
  {
   "cell_type": "markdown",
   "metadata": {},
   "source": [
    "#### Get the average inter-ELM separatrix position"
   ]
  },
  {
   "cell_type": "code",
   "execution_count": 4,
   "metadata": {},
   "outputs": [
    {
     "name": "stderr",
     "output_type": "stream",
     "text": [
      "/afs/ipp/aug/ads-diags/common/python/lib/dd_20180216.py:117: RuntimeWarning: Warning by DDcsgnl (8.1): no calibration of data\n",
      "  warnings.warn(text.replace('\\x00','').strip(), RuntimeWarning)\n"
     ]
    }
   ],
   "source": [
    "fpg = getsig(shotnr, 'FPG', 'Raus')\n",
    "fpgmsk = ddremoveELMData(shotnr, fpg.time, preft=0.002, suft=0.004, elm_exper='guimas')\n",
    "fpgind = (fpg.time>=t1.data)&(fpg.time<=t2.data)&fpgmsk\n",
    "fpgavg = np.mean(fpg.data[fpgind])"
   ]
  },
  {
   "cell_type": "markdown",
   "metadata": {},
   "source": [
    "#### Convert rho to Major Radius"
   ]
  },
  {
   "cell_type": "code",
   "execution_count": 5,
   "metadata": {},
   "outputs": [],
   "source": [
    "import kk_abock\n",
    "eq = kk_abock.kk()\n",
    "eq.Open(30554, diag='FPP')\n",
    "radius = eq.rhopol_to_Rz(3.0, rhos, 0.0)\n",
    "rad = radius['R']\n",
    "eq.Close()"
   ]
  },
  {
   "cell_type": "code",
   "execution_count": 20,
   "metadata": {},
   "outputs": [
    {
     "data": {
      "image/png": "[encoded data removed]",
      "text/plain": [
       "<Figure size 144x216 with 1 Axes>"
      ]
     },
     "metadata": {},
     "output_type": "display_data"
    }
   ],
   "source": [
    "plt.figure(figsize=(2,3))\n",
    "#plt.figure(figsize=(6,9))\n",
    "#for a,b,zord,d,clr in zip(indi, indf, zorder,labels,clrs):\n",
    "#    plt.scatter(rad[np.int(a):np.int(b)],dens[np.int(a):np.int(b)]*1e-19,s=6,zorder=zord,label=d,c=clr)\n",
    "\n",
    "dotsize = 9\n",
    "dotsizeref = 5\n",
    "\n",
    "plt.scatter(rad[indi[0]:indf[0]]+0.001, dens[indi[0]:indf[0]]*1e-19, s=dotsize, zorder=2, label=labels[0],\n",
    "            #facecolors='none', \n",
    "            edgecolors=\"C0\", marker='o')\n",
    "plt.scatter(rad[indi[1]:indf[1]]+0.001, dens[indi[1]:indf[1]]*1e-19, s=dotsize, zorder=3, label=labels[1],\n",
    "            facecolors='none', edgecolors=\"C1\", marker='D')\n",
    "            #facecolors='none', edgecolors=\"C{}\".format(1), marker='D')\n",
    "\n",
    "#Clean up ref\n",
    "rrad = rad[indi[2]:indf[2]]\n",
    "ddens = dens[indi[2]:indf[2]]\n",
    "nms = rrad>2.135\n",
    "plt.scatter(rrad[nms]+0.001, ddens[nms]*1e-19, s=dotsizeref, zorder=1, label=labels[2],\n",
    "            facecolors='none', edgecolors=\"C2\", marker='o')\n",
    "\n",
    "\n",
    "plt.axvline(fpgavg, color='k', lw=0.7)\n",
    "plt.axvspan(2.1, fpgavg, color='k', alpha=0.2)\n",
    "\n",
    "plt.xlabel(r'$\\mathrm{Major\\,Radius\\,[m]}$')\n",
    "plt.ylabel(r'$\\mathrm{n_e\\,[10^{19}m^{-3}]}$')\n",
    "plt.ylim(0,6)\n",
    "plt.xlim(2.10,2.22)\n",
    "plt.title('\\#30554 t=[%0.1f,%0.1f]s'%(t1.data,t2.data), loc='left', fontsize=9)\n",
    "plt.legend(loc='upper right',borderpad=0.,frameon=False,handletextpad=-0.3,labelspacing=0)\n",
    "plt.xticks([2.10,2.15,2.20])\n",
    "plt.text(2.105,0.3,'(a)', color='k')\n",
    "plt.tight_layout()\n",
    "plt.savefig('Profiles/1_30554.png',dpi=300)\n",
    "plt.show()"
   ]
  },
  {
   "cell_type": "code",
   "execution_count": 8,
   "metadata": {},
   "outputs": [],
   "source": [
    "import pickle\n",
    "refdata = {'r':rrad[nms]+0.001, 'n':ddens[nms]*1e-19}\n",
    "pickle.dump(refdata, open( \"./Profiles/I_30554.pickle\", \"wb\" ) )"
   ]
  },
  {
   "cell_type": "code",
   "execution_count": 9,
   "metadata": {},
   "outputs": [],
   "source": []
  },
  {
   "cell_type": "code",
   "execution_count": null,
   "metadata": {},
   "outputs": [],
   "source": []
  }
 ],
 "metadata": {
  "kernelspec": {
   "display_name": "Python 2",
   "language": "python",
   "name": "python2"
  },
  "language_info": {
   "codemirror_mode": {
    "name": "ipython",
    "version": 2
   },
   "file_extension": ".py",
   "mimetype": "text/x-python",
   "name": "python",
   "nbconvert_exporter": "python",
   "pygments_lexer": "ipython2",
   "version": "2.7.13"
  }
 },
 "nbformat": 4,
 "nbformat_minor": 2
}
