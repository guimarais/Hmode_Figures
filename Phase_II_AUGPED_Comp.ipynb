{
 "cells": [
  {
   "cell_type": "code",
   "execution_count": 1,
   "metadata": {},
   "outputs": [],
   "source": [
    "import dd\n",
    "import numpy as np\n",
    "import matplotlib.pyplot as plt\n",
    "from getsig import getsig\n",
    "from ddremoveELMData import *\n",
    "plt.style.use('helvet2')"
   ]
  },
  {
   "cell_type": "markdown",
   "metadata": {},
   "source": [
    "Editions 5, 7(w/ HFS): Phase I\n",
    "\n",
    "Editions 3, 8(w/ HFS): Phase II\n",
    "\n",
    "Editions 4, 9(w/ HFS): Phase III\n",
    "\n",
    "Edition 6 is ruined?"
   ]
  },
  {
   "cell_type": "code",
   "execution_count": 2,
   "metadata": {},
   "outputs": [
    {
     "name": "stderr",
     "output_type": "stream",
     "text": [
      "/afs/ipp/aug/ads-diags/common/python/lib/dd.py:117: RuntimeWarning: Warning by DDcsgnl (8.1): no calibration of data\n",
      "  warnings.warn(text.replace('\\x00','').strip(), RuntimeWarning)\n",
      "/afs/ipp/aug/ads-diags/common/python/lib/dd.py:117: RuntimeWarning: Warning by DDcsgrp (8.1): No PARAM_SET found\n",
      "  warnings.warn(text.replace('\\x00','').strip(), RuntimeWarning)\n"
     ]
    }
   ],
   "source": [
    "shotnr = 30554\n",
    "used_ed = 8\n",
    "ped = dd.shotfile('PED', shotnr, experiment='guimas', edition=used_ed)\n",
    "t1 = ped('t1')\n",
    "t2 = ped('t2')\n",
    "nedata = ped('neData')\n",
    "mskz = nedata.data!=0.0\n",
    "rhos = nedata.area.data[0,mskz]\n",
    "dens = nedata.data[mskz]\n",
    "diagind = ped('DiagIndx')\n",
    "nedpts = ped('neDPts')\n",
    "indexesr = nedpts.data[nedpts.data!=0]\n",
    "ped.close()"
   ]
  },
  {
   "cell_type": "code",
   "execution_count": 3,
   "metadata": {},
   "outputs": [],
   "source": [
    "if used_ed==3:\n",
    "    nr_diags=3\n",
    "elif used_ed==8:\n",
    "    nr_diags=4 #Include HFS\n",
    "\n",
    "indi = np.zeros(nr_diags).astype(int)\n",
    "indf = np.zeros(nr_diags).astype(int)\n",
    "#Initialize arrays\n",
    "indf[0] = np.array(indexesr[0]-1).astype(int)\n",
    "\n",
    "for i in range(1,nr_diags):\n",
    "    indi[i] = np.sum(indexesr[0:i]).astype(int)\n",
    "    indf[i] = np.sum(indexesr[0:i+1]).astype(int)-1\n",
    "\n",
    "zorder = np.array([3,2,1,0])\n",
    "labels = [r'$\\mathrm{TS_{edge}}$', 'LIN', 'Ref. LFS', 'Ref. HFS']\n",
    "clrs = ['r','g','b']"
   ]
  },
  {
   "cell_type": "markdown",
   "metadata": {},
   "source": [
    "#### Get the average inter-ELM separatrix position"
   ]
  },
  {
   "cell_type": "code",
   "execution_count": 4,
   "metadata": {},
   "outputs": [
    {
     "name": "stderr",
     "output_type": "stream",
     "text": [
      "/afs/ipp/aug/ads-diags/common/python/lib/dd_20180216.py:117: RuntimeWarning: Warning by DDcsgnl (8.1): no calibration of data\n",
      "  warnings.warn(text.replace('\\x00','').strip(), RuntimeWarning)\n"
     ]
    }
   ],
   "source": [
    "fpg = getsig(shotnr, 'FPG', 'Raus')\n",
    "fpgmsk = ddremoveELMData(shotnr, fpg.time, preft=0.002, suft=0.004, elm_exper='guimas')\n",
    "fpgind = (fpg.time>=t1.data)&(fpg.time<=t2.data)&fpgmsk\n",
    "fpgavg = np.mean(fpg.data[fpgind])"
   ]
  },
  {
   "cell_type": "markdown",
   "metadata": {},
   "source": [
    "#### Convert rho to Major Radius"
   ]
  },
  {
   "cell_type": "code",
   "execution_count": 5,
   "metadata": {},
   "outputs": [],
   "source": [
    "import kk_abock\n",
    "eq = kk_abock.kk()\n",
    "eq.Open(30554, diag='FPP')\n",
    "radius = eq.rhopol_to_Rz(3.0, rhos, 0.0)\n",
    "rad = radius['R']\n",
    "eq.Close()"
   ]
  },
  {
   "cell_type": "code",
   "execution_count": 8,
   "metadata": {},
   "outputs": [
    {
     "ename": "IndexError",
     "evalue": "boolean index did not match indexed array along dimension 0; dimension is 2885 but corresponding boolean dimension is 2417",
     "output_type": "error",
     "traceback": [
      "\u001b[0;31m---------------------------------------------------------------------------\u001b[0m",
      "\u001b[0;31mIndexError\u001b[0m                                Traceback (most recent call last)",
      "\u001b[0;32m<ipython-input-8-862066b02eeb>\u001b[0m in \u001b[0;36m<module>\u001b[0;34m()\u001b[0m\n\u001b[1;32m     19\u001b[0m \u001b[0mldens\u001b[0m \u001b[0;34m=\u001b[0m \u001b[0mdens\u001b[0m\u001b[0;34m[\u001b[0m\u001b[0mindi\u001b[0m\u001b[0;34m[\u001b[0m\u001b[0;36m2\u001b[0m\u001b[0;34m]\u001b[0m\u001b[0;34m:\u001b[0m\u001b[0mindf\u001b[0m\u001b[0;34m[\u001b[0m\u001b[0;36m2\u001b[0m\u001b[0;34m]\u001b[0m\u001b[0;34m]\u001b[0m\u001b[0;34m\u001b[0m\u001b[0m\n\u001b[1;32m     20\u001b[0m \u001b[0mlms\u001b[0m \u001b[0;34m=\u001b[0m \u001b[0mlrad\u001b[0m\u001b[0;34m>\u001b[0m\u001b[0;36m2.135\u001b[0m\u001b[0;34m\u001b[0m\u001b[0m\n\u001b[0;32m---> 21\u001b[0;31m plt.scatter(lrad[lms], ddens[lms]*1e-19, s=dotsizeref, zorder=1, label=labels[2],\n\u001b[0m\u001b[1;32m     22\u001b[0m             facecolors='none', edgecolors=\"C0\", marker='o')\n\u001b[1;32m     23\u001b[0m \u001b[0;34m\u001b[0m\u001b[0m\n",
      "\u001b[0;31mIndexError\u001b[0m: boolean index did not match indexed array along dimension 0; dimension is 2885 but corresponding boolean dimension is 2417"
     ]
    }
   ],
   "source": [
    "plt.figure(figsize=(2,3),dpi=300)\n",
    "#plt.figure(figsize=(6,9))\n",
    "#for a,b,zord,d,clr in zip(indi, indf, zorder,labels,clrs):\n",
    "#    plt.scatter(rad[np.int(a):np.int(b)],dens[np.int(a):np.int(b)]*1e-19,s=6,zorder=zord,label=d,c=clr)\n",
    "\n",
    "dotsize = 5\n",
    "dotsizeref = 4\n",
    "\n",
    "plt.scatter(rad[indi[0]:indf[0]], dens[indi[0]:indf[0]]*1e-19, s=dotsize, zorder=2, label=labels[0],\n",
    "            #facecolors='none', \n",
    "            facecolors=\"C1\", marker='o')\n",
    "\n",
    "plt.scatter(rad[indi[1]:indf[1]], dens[indi[1]:indf[1]]*1e-19, s=dotsize, zorder=3, label=labels[1],\n",
    "            facecolors='C2', marker='D')\n",
    "            #facecolors='none', edgecolors=\"C{}\".format(1), marker='D')\n",
    "\n",
    "#Clean up ref\n",
    "lrad = rad[indi[2]:indf[2]]\n",
    "ldens = dens[indi[2]:indf[2]]\n",
    "lms = lrad>2.135\n",
    "plt.scatter(lrad[lms], ddens[lms]*1e-19, s=dotsizeref, zorder=1, label=labels[2],\n",
    "            facecolors='none', edgecolors=\"C0\", marker='o')\n",
    "\n",
    "if used_ed == 8:\n",
    "    hrad = rad[indi[3]:indf[3]]\n",
    "    hdens = dens[indi[3]:indf[3]]\n",
    "    hms = hrad>2.129#2.135\n",
    "    plt.scatter(rrad[hms], ddens[hms]*1e-19, s=dotsizeref, zorder=0, label=labels[3],\n",
    "                facecolors='none', edgecolors=\"C3\", marker='o')\n",
    "\n",
    "plt.axvline(fpgavg, color='k', lw=0.7)\n",
    "plt.axvspan(2.1, fpgavg, color='k', alpha=0.2)\n",
    "\n",
    "plt.xlabel(r'$\\mathrm{Major\\,Radius\\,[m]}$')\n",
    "plt.ylabel(r'$\\mathrm{n_e\\,[10^{19}m^{-3}]}$')\n",
    "plt.ylim(0,6)\n",
    "plt.xlim(2.10,2.22)\n",
    "plt.title('\\#30554 t=[%0.1f,%0.1f]s'%(t1.data,t2.data), loc='left', fontsize=9)\n",
    "plt.legend(loc='upper right',borderpad=0.1,frameon=True,handletextpad=-0.3,labelspacing=0)\n",
    "plt.xticks([2.10,2.15,2.20])\n",
    "plt.text(2.105,0.3,'(b)', color='k')\n",
    "plt.tight_layout()\n",
    "#plt.savefig('Profiles/2_30554.png',dpi=300)\n",
    "plt.show()"
   ]
  },
  {
   "cell_type": "code",
   "execution_count": 7,
   "metadata": {},
   "outputs": [],
   "source": [
    "import pickle\n",
    "refdata = {'r':lrad[lms], 'n':ldens[lms]*1e-19}\n",
    "pickle.dump(refdata, open( \"./Profiles/II_30554.pickle\", \"wb\" ) )"
   ]
  },
  {
   "cell_type": "code",
   "execution_count": null,
   "metadata": {},
   "outputs": [],
   "source": []
  }
 ],
 "metadata": {
  "kernelspec": {
   "display_name": "Python 2",
   "language": "python",
   "name": "python2"
  },
  "language_info": {
   "codemirror_mode": {
    "name": "ipython",
    "version": 2
   },
   "file_extension": ".py",
   "mimetype": "text/x-python",
   "name": "python",
   "nbconvert_exporter": "python",
   "pygments_lexer": "ipython2",
   "version": "2.7.13"
  }
 },
 "nbformat": 4,
 "nbformat_minor": 2
}
